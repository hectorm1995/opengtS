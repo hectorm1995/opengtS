{
 "cells": [
  {
   "cell_type": "code",
   "execution_count": null,
   "id": "4d83cf50",
   "metadata": {},
   "outputs": [],
   "source": [
    "sudo /etc/init.d/mysql start"
   ]
  },
  {
   "cell_type": "code",
   "execution_count": null,
   "id": "a5c191cc",
   "metadata": {},
   "outputs": [],
   "source": [
    "cd /usr/local\n",
    "cd $CATALINA_HOME/bin\n",
    "chmod a+x *.sh\n",
    "$CATALINA_HOME/bin/startup.sh"
   ]
  },
  {
   "cell_type": "code",
   "execution_count": null,
   "id": "48574438",
   "metadata": {},
   "outputs": [],
   "source": [
    "cd $GTS_HOME\n",
    "ant all\n",
    "bin/initdb.sh -rootUser=root -rootPass=12345678\n",
    "cd $GTS_HOME && bin/checkInstall.sh\n",
    "cd $GTS_HOME && ant track\n",
    "cp build/track.war $CATALINA_HOME/webapps/"
   ]
  },
  {
   "cell_type": "code",
   "execution_count": null,
   "id": "da58fd1f",
   "metadata": {},
   "outputs": [],
   "source": [
    "cd $GTS_HOME \n",
    "ant track\n",
    "ant track.war\n",
    "cp build/track.war $CATALINA_HOME/webapps/\n",
    "ant track.deploy"
   ]
  },
  {
   "cell_type": "code",
   "execution_count": null,
   "id": "70a25de8",
   "metadata": {},
   "outputs": [],
   "source": [
    "http://localhost:8080/track/Track"
   ]
  },
  {
   "cell_type": "code",
   "execution_count": null,
   "id": "4f9524e9",
   "metadata": {},
   "outputs": [],
   "source": [
    "bin/runserver.sh -s tk10x -i"
   ]
  }
 ],
 "metadata": {
  "kernelspec": {
   "display_name": "Python 3",
   "language": "python",
   "name": "python3"
  },
  "language_info": {
   "codemirror_mode": {
    "name": "ipython",
    "version": 3
   },
   "file_extension": ".py",
   "mimetype": "text/x-python",
   "name": "python",
   "nbconvert_exporter": "python",
   "pygments_lexer": "ipython3",
   "version": "3.6.9"
  }
 },
 "nbformat": 4,
 "nbformat_minor": 5
}
