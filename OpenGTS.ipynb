{
 "cells": [
  {
   "cell_type": "markdown",
   "metadata": {},
   "source": [
    "Instalación OpenGTs en Ubuntu"
   ]
  },
  {
   "cell_type": "markdown",
   "metadata": {},
   "source": [
    "1.- Instalar unzip-openjdk-mysql-server"
   ]
  },
  {
   "cell_type": "code",
   "execution_count": null,
   "metadata": {},
   "outputs": [],
   "source": [
    "sudo apt install zip unzip"
   ]
  },
  {
   "cell_type": "code",
   "execution_count": null,
   "metadata": {},
   "outputs": [],
   "source": [
    "sudo apt-get install openjdk-8-jre"
   ]
  },
  {
   "cell_type": "code",
   "execution_count": null,
   "metadata": {},
   "outputs": [],
   "source": [
    "sudo apt-get install openjdk-8-jdk"
   ]
  },
  {
   "cell_type": "code",
   "execution_count": null,
   "metadata": {},
   "outputs": [],
   "source": [
    "sudo apt-get update"
   ]
  },
  {
   "cell_type": "code",
   "execution_count": null,
   "metadata": {},
   "outputs": [],
   "source": [
    "sudo apt-get install mysql-server"
   ]
  },
  {
   "cell_type": "code",
   "execution_count": null,
   "metadata": {},
   "outputs": [],
   "source": [
    "sudo /etc/init.d/mysql start"
   ]
  },
  {
   "cell_type": "markdown",
   "metadata": {},
   "source": [
    "2.- Crear un directorio para java"
   ]
  },
  {
   "cell_type": "code",
   "execution_count": null,
   "metadata": {},
   "outputs": [],
   "source": [
    "export JAVA_HOME=/usr/lib/jvm/java-8-openjdk-amd64"
   ]
  },
  {
   "cell_type": "code",
   "execution_count": null,
   "metadata": {},
   "outputs": [],
   "source": [
    "echo \"export JAVA_HOME=/usr/lib/jvm/java-8-openjdk-amd64\"  >>  ~/.bashrc"
   ]
  },
  {
   "cell_type": "markdown",
   "metadata": {},
   "source": [
    "3.- Descargar archivo tomcat9 de la pagina web-->> https://tomcat.apache.org/download-90.cgi"
   ]
  },
  {
   "cell_type": "code",
   "execution_count": null,
   "metadata": {},
   "outputs": [],
   "source": [
    "/tmp$ unzip apache-tomcat-9.0.58.zip //descomprimir el archivo"
   ]
  },
  {
   "cell_type": "code",
   "execution_count": null,
   "metadata": {},
   "outputs": [],
   "source": [
    "/tmp$ sudo cp -a apache-tomcat-9.0.58. /usr/local/ //copiar el archivo a la carpeta usr"
   ]
  },
  {
   "cell_type": "code",
   "execution_count": null,
   "metadata": {},
   "outputs": [],
   "source": [
    "/tmp$ export CATALINA_HOME=/usr/local/apache-tomcat-9.0.58  //crear directorio tomcat"
   ]
  },
  {
   "cell_type": "code",
   "execution_count": null,
   "metadata": {},
   "outputs": [],
   "source": [
    "/tmp$ cd usr/local/apache-tomcat-9.0.58 "
   ]
  },
  {
   "cell_type": "code",
   "execution_count": null,
   "metadata": {},
   "outputs": [],
   "source": [
    "/usr/local$ sudo ln -s $CATALINA_HOME tomcat //crea acceso directo tomcat con la direccion a CATALINA HOME"
   ]
  },
  {
   "cell_type": "code",
   "execution_count": null,
   "metadata": {},
   "outputs": [],
   "source": [
    "/usr/local$ cd $CATALINA_HOME/bin"
   ]
  },
  {
   "cell_type": "code",
   "execution_count": null,
   "metadata": {},
   "outputs": [],
   "source": [
    "/bin$ chmod a+x *.sh  //habilitar permisos de administrador "
   ]
  },
  {
   "cell_type": "code",
   "execution_count": null,
   "metadata": {},
   "outputs": [],
   "source": [
    "/bin$ $CATALINA_HOME/bin/startup.sh"
   ]
  },
  {
   "cell_type": "code",
   "execution_count": null,
   "metadata": {},
   "outputs": [],
   "source": [
    "/bin$ echo \" export CATALINA_HOME=/usr/local/apache-tomcat-9.0.58\"  >>  ~/.bashrc"
   ]
  },
  {
   "cell_type": "markdown",
   "metadata": {},
   "source": [
    "4.- Instalar mysql conector --> http://dev.mysql.com/get/Downloads/Connector-J/mysql-connector-java-5.1.37.zip"
   ]
  },
  {
   "cell_type": "code",
   "execution_count": null,
   "metadata": {},
   "outputs": [],
   "source": [
    "/tmp$ unzip mysql-connector-java-5.1.37.zip"
   ]
  },
  {
   "cell_type": "code",
   "execution_count": null,
   "metadata": {},
   "outputs": [],
   "source": [
    "/tmp$ sudo cp javax.mail-1.5.2.jar $JAVA_HOME/jre/lib/ext/"
   ]
  },
  {
   "cell_type": "code",
   "execution_count": null,
   "metadata": {},
   "outputs": [],
   "source": [
    "/tmp$ sudo mv $JAVA_HOME/jre/lib/ext/javax.mail-1.5.2.jar $JAVA_HOME/jre/lib/ext/javax.mail.jar"
   ]
  },
  {
   "cell_type": "markdown",
   "metadata": {},
   "source": [
    "5.- Instalar OpenGTs descargar zip de la pagina web----> https://mail-attachment.googleusercontent.com/attachment/u/0/?ui=2&ik=d4cedaa131&attid=0.0&permmsgid=msg-f:1724882610901603807&th=17f003988609d5df&view=att&disp=inline&ser=1&saddbat=ANGjdJ_hjYJdwC0Cj1RuOlRTQOWfJrAmJqqcA7ELMs14Fex302PtzCx1q4_cwi36MqAeLI0Y4v3_mGgUR90GS7MIDcBzZ8Bc1q1NAk9hYkr88-b7-MdK72Sy6cnbHRKdNqaWqI8A_M3MW2knxWGc4ii7_pETkdLSm52LyACsHbGvYzGr4C7fmqOuXKfvVsiJ2LRPZbkVVBfGqq47u5uzbnWG6OVcLWUeZkAXaHfnLP0vdtLhycAXJnU6WQo1CqeVMgAYqg1Ct3ygxbTsXrH0kGsxyaFIsBChSP6-czFNh7p7rWH7MygZ3vip8nYa3vBft1-Kswx5FLNsprkkde2i0zJ5-FLVAXYf9pNqu8b3yP0fGoQql6a8HNGK5L-g4dAvQRRDY1jaQLYXXyvgEazGUOg4HV2u22NTfJEpWWWu7f2z8G_mPhxg2Acn7rwIiedXxYRCmhAMYR__mCQGESjMW-_LKtBES0wbEtdWTA_AdczfqTjezY3LdPOujBD4reYccfQ0pOpdJAwVh54b9eHvMuUpemQMQneOlsEiIlSfxU1MdnzbHYcNb8PDKEBxU4R_u2AxKGJphupvE9Yr5l-6Ysu8R9Nv7vPDKC1C9BbKZwsDT16EIEv34HXa3myuSluJD2CdpFenpoNPxiWk2TwmgCy8oA-dBGsvAXEJy0G3bdHhvNvlfvEPiP1w4C43Cxo"
   ]
  },
  {
   "cell_type": "raw",
   "metadata": {},
   "source": [
    "/tmp$ sudo unzip /tmp/OpenGTS_2.6.7.zip -d /usr/local/ //descomprimir e instalar en usr/local"
   ]
  },
  {
   "cell_type": "code",
   "execution_count": null,
   "metadata": {},
   "outputs": [],
   "source": [
    "sudo chown -R hector OpenGTS_2.6.7"
   ]
  },
  {
   "cell_type": "code",
   "execution_count": null,
   "metadata": {},
   "outputs": [],
   "source": [
    "cd /usr/local/"
   ]
  },
  {
   "cell_type": "code",
   "execution_count": null,
   "metadata": {},
   "outputs": [],
   "source": [
    "export GTS_HOME=/usr/local/OpenGTS_2.6.7 //crear directorio"
   ]
  },
  {
   "cell_type": "code",
   "execution_count": null,
   "metadata": {},
   "outputs": [],
   "source": [
    "echo \" export GTS_HOME=/usr/local/OpenGTS_2.6.7\"  >>  ~/.bashrc"
   ]
  },
  {
   "cell_type": "markdown",
   "metadata": {},
   "source": [
    "5.- Instalar apache ant ---> https://ant.apache.org/bindownload.cgi"
   ]
  },
  {
   "cell_type": "code",
   "execution_count": null,
   "metadata": {},
   "outputs": [],
   "source": [
    "sudo apt-get update"
   ]
  },
  {
   "cell_type": "code",
   "execution_count": null,
   "metadata": {},
   "outputs": [],
   "source": [
    "unzip apache-ant-1.10.12-bin.zip -d /usr/local/"
   ]
  },
  {
   "cell_type": "code",
   "execution_count": null,
   "metadata": {},
   "outputs": [],
   "source": [
    "cd /usr/local"
   ]
  },
  {
   "cell_type": "code",
   "execution_count": null,
   "metadata": {},
   "outputs": [],
   "source": [
    "ll"
   ]
  },
  {
   "cell_type": "markdown",
   "metadata": {},
   "source": [
    "<img src= 'll.png'>"
   ]
  },
  {
   "cell_type": "code",
   "execution_count": null,
   "metadata": {},
   "outputs": [],
   "source": [
    "sudo mv apache-ant-1.10.1 apache-ant"
   ]
  },
  {
   "cell_type": "code",
   "execution_count": null,
   "metadata": {},
   "outputs": [],
   "source": [
    "cd /usr/local"
   ]
  },
  {
   "cell_type": "code",
   "execution_count": null,
   "metadata": {},
   "outputs": [],
   "source": [
    "sudo ln -s /usr/local/apache-ant/ /usr/local/ant"
   ]
  },
  {
   "cell_type": "code",
   "execution_count": null,
   "metadata": {},
   "outputs": [],
   "source": [
    "sudo vim /etc/profile.d/ant.sh //Ir a ese archivo y pegar lo que sigue"
   ]
  },
  {
   "cell_type": "code",
   "execution_count": null,
   "metadata": {},
   "outputs": [],
   "source": [
    "export ANT_HOME=/usr/local/ant\n",
    "export PATH=${ANT_HOME}/bin:${PATH}"
   ]
  },
  {
   "cell_type": "markdown",
   "metadata": {},
   "source": [
    "<img src='ant.png'>"
   ]
  },
  {
   "cell_type": "code",
   "execution_count": null,
   "metadata": {},
   "outputs": [],
   "source": [
    ":wq //guardar y salir"
   ]
  },
  {
   "cell_type": "code",
   "execution_count": null,
   "metadata": {},
   "outputs": [],
   "source": [
    "source /etc/profile"
   ]
  },
  {
   "cell_type": "code",
   "execution_count": null,
   "metadata": {},
   "outputs": [],
   "source": [
    "ant -version //Apache Ant(TM) version 1.10.12 compiled on October 13 2021 -->isntalacion correcta"
   ]
  },
  {
   "cell_type": "code",
   "execution_count": null,
   "metadata": {},
   "outputs": [],
   "source": [
    "echo \" export ANT_HOME=/usr/local/ant\"  >>  ~/.bashrc"
   ]
  },
  {
   "cell_type": "code",
   "execution_count": null,
   "metadata": {},
   "outputs": [],
   "source": [
    "source ~/.bashrc"
   ]
  },
  {
   "cell_type": "code",
   "execution_count": null,
   "metadata": {},
   "outputs": [],
   "source": [
    "sudo ln -s $JAVA_HOME /usr/local/java   //verificar de nuevo la creacion de directorios"
   ]
  },
  {
   "cell_type": "code",
   "execution_count": null,
   "metadata": {},
   "outputs": [],
   "source": [
    "sudo ln -s $CATALINA_HOME /usr/local/tomcat"
   ]
  },
  {
   "cell_type": "code",
   "execution_count": null,
   "metadata": {},
   "outputs": [],
   "source": [
    "sudo ln -s $GTS_HOME /usr/local/gts"
   ]
  },
  {
   "cell_type": "code",
   "execution_count": null,
   "metadata": {},
   "outputs": [],
   "source": [
    "sudo nano /usr/local/OpenGTS_2.6.7/config.conf //configurar OPENGTS"
   ]
  },
  {
   "cell_type": "code",
   "execution_count": null,
   "metadata": {},
   "outputs": [],
   "source": [
    "Db.sql.user=gts          //descomentar esas dos lineas y guardar\n",
    "Db.sql.password=opengts"
   ]
  },
  {
   "cell_type": "code",
   "execution_count": null,
   "metadata": {},
   "outputs": [],
   "source": [
    "ls -l $CATALINA_HOME  //Verificar que esta direccion corresponda apache-tomcat"
   ]
  },
  {
   "cell_type": "code",
   "execution_count": null,
   "metadata": {},
   "outputs": [],
   "source": [
    "unlink /usr/local/apache-tomcat-9.0.58 /apache-tomcat-9.0.58 "
   ]
  },
  {
   "cell_type": "markdown",
   "metadata": {},
   "source": [
    "### COMPILAR OpenGTS"
   ]
  },
  {
   "cell_type": "code",
   "execution_count": null,
   "metadata": {},
   "outputs": [],
   "source": [
    "cd $GTS_HOME"
   ]
  },
  {
   "cell_type": "code",
   "execution_count": null,
   "metadata": {},
   "outputs": [],
   "source": [
    "ant all"
   ]
  },
  {
   "cell_type": "code",
   "execution_count": null,
   "metadata": {},
   "outputs": [],
   "source": [
    "Buildfile: /usr/local/OpenGTS_2.6.7/build.xml\n",
    "\n",
    "clean:\n",
    "\n",
    "prepare:\n",
    "    [mkdir] Created dir: /usr/local/OpenGTS_2.6.7/build\n",
    "    [mkdir] Created dir: /usr/local/OpenGTS_2.6.7/build/lib\n",
    "     [echo] OS = Linux\n",
    "     [echo] JavaHome = /usr/lib/jvm/java-8-openjdk-amd64/jre\n",
    "     [exec] openjdk version \"1.8.0_312\"\n",
    "     [exec] OpenJDK Runtime Environment (build 1.8.0_312-8u312-b07-0ubuntu1~20.04-b07)\n",
    "     [exec] OpenJDK 64-Bit Server VM (build 25.312-b07, mixed mode)\n",
    "     [copy] Copying 2 files to /usr/local/OpenGTS_2.6.7/build/lib\n",
    "     [copy] Warning: /usr/local/OpenGTS_2.6.7/lib/extra does not exist.\n",
    "     [echo] (Ignore copy 'not found' warnings)\n",
    "    [mkdir] Created dir: /usr/local/OpenGTS_2.6.7/jlib/jdbc.derby\n",
    "    [mkdir] Created dir: /usr/local/OpenGTS_2.6.7/jlib/jdbc.sqlserver\n",
    "    [mkdir] Created dir: /usr/local/OpenGTS_2.6.7/jlib/apache\n",
    "    [mkdir] Created dir: /usr/local/OpenGTS_2.6.7/jlib/freemarker\n",
    "\n",
    "gprmc.war:\n",
    "     [echo] Creating 'gprmc.war' archive ...\n",
    "      [war] Building war: /usr/local/OpenGTS_2.6.7/build/gprmc.war\n",
    "\n",
    "gprmc:\n",
    "     [echo] 'gprmc.war' created.\n",
    "\n",
    "compile.servlets:\n",
    "     [echo] Servlet/War file compiled ...\n",
    "\n",
    "compile:\n",
    "     [echo] Libraries compiled ...\n",
    "\n",
    "all:\n",
    "     [echo] Build 'all' complete.\n",
    "\n",
    "BUILD SUCCESSFUL          //compilación correcta caso contrario revisar alguna libreria\n",
    "Total time: 8 seconds  \n"
   ]
  },
  {
   "cell_type": "code",
   "execution_count": null,
   "metadata": {},
   "outputs": [],
   "source": []
  }
 ],
 "metadata": {
  "kernelspec": {
   "display_name": "Python 3",
   "language": "python",
   "name": "python3"
  },
  "language_info": {
   "codemirror_mode": {
    "name": "ipython",
    "version": 3
   },
   "file_extension": ".py",
   "mimetype": "text/x-python",
   "name": "python",
   "nbconvert_exporter": "python",
   "pygments_lexer": "ipython3",
   "version": "3.8.10"
  }
 },
 "nbformat": 4,
 "nbformat_minor": 4
}
