{
 "cells": [
  {
   "cell_type": "markdown",
   "id": "a664930f",
   "metadata": {},
   "source": [
    "### INTALACIÓN OPENGTS UBUNTU 18.04.6"
   ]
  },
  {
   "cell_type": "code",
   "execution_count": null,
   "id": "36b1d427",
   "metadata": {},
   "outputs": [],
   "source": [
    "sudo apt-get update"
   ]
  },
  {
   "cell_type": "code",
   "execution_count": null,
   "id": "7f31def1",
   "metadata": {},
   "outputs": [],
   "source": [
    "sudo apt-get install apache2 mysql-server libmysql-java ant unzip"
   ]
  },
  {
   "cell_type": "code",
   "execution_count": null,
   "id": "fbce132a",
   "metadata": {},
   "outputs": [],
   "source": [
    "sudo apt-get install php"
   ]
  },
  {
   "cell_type": "code",
   "execution_count": null,
   "id": "7897fa53",
   "metadata": {},
   "outputs": [],
   "source": [
    "sudo /etc/init.d/mysql start"
   ]
  },
  {
   "cell_type": "markdown",
   "id": "60a11787",
   "metadata": {},
   "source": [
    "### Java"
   ]
  },
  {
   "cell_type": "code",
   "execution_count": null,
   "id": "a81afe10",
   "metadata": {},
   "outputs": [],
   "source": [
    "sudo apt-get install openjdk-8-jdk\n",
    "export JAVA_HOME=/usr/lib/jvm/java-8-openjdk-amd64\n",
    "echo \"export JAVA_HOME=/usr/lib/jvm/java-8-openjdk-amd64\" >> ~/.bashrc"
   ]
  },
  {
   "cell_type": "markdown",
   "id": "271a95ff",
   "metadata": {},
   "source": [
    "### Apache Tomcat"
   ]
  },
  {
   "cell_type": "code",
   "execution_count": null,
   "id": "376d4273",
   "metadata": {},
   "outputs": [],
   "source": [
    "VER=9.0.58\n",
    "cd /tmp\n",
    "wget -c https://dlcdn.apache.org/tomcat/tomcat-9/v9.0.58/bin/apache-tomcat-9.0.58.zip\n",
    "unzip apache-tomcat-${VER}.zip\n",
    "sudo cp -a apache-tomcat-${VER} /usr/local/\n",
    "\n",
    "export CATALINA_HOME=/usr/local/apache-tomcat-${VER}\n",
    "cd /usr/local\n",
    "sudo ln -s $CATALINA_HOME tomcat\n",
    "cd $CATALINA_HOME/bin\n",
    "chmod a+x *.sh\n",
    "$CATALINA_HOME/bin/startup.sh\n",
    "echo \"export CATALINA_HOME=/usr/local/apache-tomcat-${VER}\" >> ~/.bashrc"
   ]
  },
  {
   "cell_type": "markdown",
   "id": "b2bffbeb",
   "metadata": {},
   "source": [
    "### Javax mail"
   ]
  },
  {
   "cell_type": "code",
   "execution_count": null,
   "id": "61fedbbf",
   "metadata": {},
   "outputs": [],
   "source": [
    "VER 5.1.37\n",
    "cd /tmp\n",
    "wget -c http://dev.mysql.com/get/Downloads/Connector-J/mysql-connector-java-5.1.37.zip\n",
    "unzip mysql-connector-java-5.1.37.zip\n",
    "sudo cp javax.mail-5.1.37.jar $JAVA_HOME/jre/lib/ext/\n",
    "sudo mv $JAVA_HOME/jre/lib/ext/javax.mail-5.1.37.jar $JAVA_HOME/jre/lib/ext/javax.mail.jar"
   ]
  },
  {
   "cell_type": "markdown",
   "id": "25880ca2",
   "metadata": {},
   "source": [
    "### Java conector"
   ]
  },
  {
   "cell_type": "code",
   "execution_count": null,
   "id": "1daa95cc",
   "metadata": {},
   "outputs": [],
   "source": [
    "VER=5.1.34\n",
    "cd /tmp\n",
    "wget -c http://dev.mysql.com/get/Downloads/Connector-J/mysql-connector-java-${VER}.zip\n",
    "unzip mysql-connector-java-${VER}.zip\n",
    "cd mysql-connector-java-${VER}\n",
    "sudo cp mysql-connector-java-${VER}-bin.jar $JAVA_HOME/jre/lib/ext"
   ]
  },
  {
   "cell_type": "markdown",
   "id": "cdaea217",
   "metadata": {},
   "source": [
    "### OpenGts ->> https://sourceforge.net/projects/opengts/files/latest/download"
   ]
  },
  {
   "cell_type": "code",
   "execution_count": null,
   "id": "2f853ffb",
   "metadata": {},
   "outputs": [],
   "source": [
    "cd /Descargas\n",
    "cp OpenGTS_2.6.5.zip /tmp\n",
    "VER=2.6.5\n",
    "cd /tmp\n",
    "sudo apt-get install curl\n",
    "udo unzip /tmp/OpenGTS_${VER}.zip -d /usr/local\n",
    "GROUP=users\n",
    "sudo chown -R ${USER}:${GROUP} /usr/local/OpenGTS_${VER}\n",
    "export GTS_HOME=/usr/local/OpenGTS_${VER}\n",
    "echo \"export GTS_HOME=/usr/local/OpenGTS_${VER}\" >> ~/.bashrc"
   ]
  },
  {
   "cell_type": "markdown",
   "id": "96851355",
   "metadata": {},
   "source": [
    "### Crear directorios"
   ]
  },
  {
   "cell_type": "code",
   "execution_count": null,
   "id": "7ebb92f3",
   "metadata": {},
   "outputs": [],
   "source": [
    "echo \"export ANT_HOME=/usr/share/ant\" >> ~/.bashrc\n",
    "source ~/.bashrc\n",
    "sudo ln -s $JAVA_HOME /usr/local/java\n",
    "sudo ln -s $CATALINA_HOME /usr/local/tomcat\n",
    "sudo ln -s $GTS_HOME /usr/local/gts"
   ]
  },
  {
   "cell_type": "markdown",
   "id": "987eef8e",
   "metadata": {},
   "source": [
    "### Configuracion db OpenGTS"
   ]
  },
  {
   "cell_type": "code",
   "execution_count": null,
   "id": "1fa39875",
   "metadata": {},
   "outputs": [],
   "source": [
    "sed -i \"s/#db.sql.user=gts/db.sql.user=gts/\" $GTS_HOME/config.conf\n",
    "sed -i \"s/#db.sql.password=opengts/db.sql.password=opengts/\" $GTS_HOME/config.conf\n",
    "ls -l $CATALINA_HOME\n",
    "VER=9.0.58\n",
    "unlink /usr/local/apache-tomcat-${VER}/apache-tomcat-${VER}\n",
    "cd $GTS_HOME\n",
    "ant all"
   ]
  },
  {
   "cell_type": "markdown",
   "id": "3b318e2f",
   "metadata": {},
   "source": [
    "Si todo esta bien deberá aparecer lo siguiente \"BUILD SUCESSFUL\""
   ]
  },
  {
   "cell_type": "markdown",
   "id": "5539a813",
   "metadata": {},
   "source": [
    "<img src=\"ant.png\">"
   ]
  },
  {
   "cell_type": "markdown",
   "id": "7a89f83b",
   "metadata": {},
   "source": [
    "### Coonfigurar MySQL"
   ]
  },
  {
   "cell_type": "code",
   "execution_count": null,
   "id": "5c71be0b",
   "metadata": {},
   "outputs": [],
   "source": [
    "mysql --version\n",
    "sudo systemctl stop mysql.service\n",
    "sudo systemctl status mysql.service\n",
    "sudo systemctl start mysql.service\n",
    "sudo systemctl status mysql.service\n",
    "sudo mysql -u root\n",
    "mysql> flush privileges;\n",
    "mysql> USE mysql\n",
    "mysql> ALTER USER  'root'@'localhost' IDENTIFIED BY '12345678'; //crear usuario y contraseña\n",
    "mysql> quit;\n",
    "sudo killall -u mysql\n",
    "sudo systemctl restart mysql.service\n",
    " sudo mysql -u root -p"
   ]
  },
  {
   "cell_type": "markdown",
   "id": "af80e188",
   "metadata": {},
   "source": [
    "<img src=\"SQL.png\">"
   ]
  },
  {
   "cell_type": "code",
   "execution_count": null,
   "id": "5c224265",
   "metadata": {},
   "outputs": [],
   "source": [
    "mysql -u root -p\n",
    "sudo mysql\n",
    "ALTER USER 'root'@'localhost' IDENTIFIED WITH mysql_native_password BY '12345678'; //dar permiso para el acceso mediante contraseña\n",
    "mysql -u root -p"
   ]
  },
  {
   "cell_type": "markdown",
   "id": "eee7a267",
   "metadata": {},
   "source": [
    "### Creación de DB OpenGTS"
   ]
  },
  {
   "cell_type": "code",
   "execution_count": null,
   "id": "d5e71941",
   "metadata": {},
   "outputs": [],
   "source": [
    "bin/initdb.sh -rootUser=root -rootPass=12345678"
   ]
  },
  {
   "cell_type": "markdown",
   "id": "0902f9e4",
   "metadata": {},
   "source": [
    "### Si SQL y OpenGts se conectan debe aparecer lo que sigue"
   ]
  },
  {
   "cell_type": "markdown",
   "id": "330f9171",
   "metadata": {},
   "source": [
    "<img src=\"db.png\">"
   ]
  },
  {
   "cell_type": "code",
   "execution_count": null,
   "id": "adb93e06",
   "metadata": {},
   "outputs": [],
   "source": [
    "cd $GTS_HOME && bin/checkInstall.sh\n",
    "bin/admin.sh Account -account=sysadmin -pass=password -create //crear una cuenta y contraseña"
   ]
  },
  {
   "cell_type": "code",
   "execution_count": null,
   "id": "c28e9b4b",
   "metadata": {},
   "outputs": [],
   "source": [
    "cd $GTS_HOME \n",
    "ant track\n",
    "ant track.war\n",
    "cp build/track.war $CATALINA_HOME/webapps/\n",
    "ant track.deploy"
   ]
  },
  {
   "cell_type": "markdown",
   "id": "f5b7ef18",
   "metadata": {},
   "source": [
    "### Comprobar si esta creada la cuenta"
   ]
  },
  {
   "cell_type": "code",
   "execution_count": null,
   "id": "c341a379",
   "metadata": {},
   "outputs": [],
   "source": [
    "http://localhost:8080/track/Track"
   ]
  },
  {
   "cell_type": "code",
   "execution_count": null,
   "id": "9fef6b88",
   "metadata": {},
   "outputs": [],
   "source": [
    "If it is not accessible, you may have to start (or restart) Tomcat.\n",
    "\n",
    "# Check whether tomcat is running.\n",
    "ps -ef | grep tomcat\n",
    "\n",
    "# If it is running, execute the lines below.\n",
    "$CATALINA_HOME/bin/shutdown.sh\n",
    "rm -rf $CATALINA_HOME/webapps/track*\n",
    "cp $GTS_HOME/build/track.war $CATALINA_HOME/webapps/\n",
    "$CATALINA_HOME/bin/startup.sh\n",
    "\n",
    "# Else\n",
    "$CATALINA_HOME/bin/startup.sh\n",
    "Install Event Java Servlet and gprmc.\n",
    "\n",
    "cd $GTS_HOME && ant events\n",
    "cp -v build/events.war $CATALINA_HOME/webapps\n",
    "\n",
    "cd $GTS_HOME && ant gprmc\n",
    "cp build/gprmc.war $CATALINA_HOME/webapps/\n",
    "Verify installation again:\n",
    "\n",
    "bin/checkInstall.sh"
   ]
  },
  {
   "cell_type": "code",
   "execution_count": null,
   "id": "1cda5127",
   "metadata": {},
   "outputs": [],
   "source": [
    "Client\n",
    "If the installation was successful, you may want to test it quickly by monitoring an Android mobile phone.\n",
    "\n",
    "Download CelltracGTS, the Android official client.\n",
    "Make sure that the server has the gprmc module and it is working: First, check whether the installation is correct:\n",
    "cd $GTS_HOME && bin/checkInstall.sh\n",
    "Then, verify whether the module is working:\n",
    "\n",
    "cd $GTS_HOME && cat logs/w-gprmc.log"
   ]
  }
 ],
 "metadata": {
  "kernelspec": {
   "display_name": "Python 3",
   "language": "python",
   "name": "python3"
  },
  "language_info": {
   "codemirror_mode": {
    "name": "ipython",
    "version": 3
   },
   "file_extension": ".py",
   "mimetype": "text/x-python",
   "name": "python",
   "nbconvert_exporter": "python",
   "pygments_lexer": "ipython3",
   "version": "3.6.9"
  }
 },
 "nbformat": 4,
 "nbformat_minor": 5
}
